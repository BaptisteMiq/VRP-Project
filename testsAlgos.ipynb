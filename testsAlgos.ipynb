{
 "cells": [
  {
   "source": [
    "# Running all algorithms independently using generated dataset "
   ],
   "cell_type": "markdown",
   "metadata": {}
  },
  {
   "source": [
    "## Imports and getting graphs from dataset"
   ],
   "cell_type": "markdown",
   "metadata": {}
  },
  {
   "source": [
    "from tools.graphGeneration import randomDataGenerator, csvToGraph\n",
    "from tools.graphChecker import calcPathEfficiency\n",
    "import numpy as np\n",
    "\n",
    "g20 = csvToGraph(\"dataset/ran-20x20.csv\")\n",
    "g40 = csvToGraph(\"dataset/ran-40x40.csv\")\n",
    "g80 = csvToGraph(\"dataset/ran-80x80.csv\")\n",
    "g140 = csvToGraph(\"dataset/ran-140x140.csv\")\n",
    "g500 = csvToGraph(\"dataset/ran-500x500.csv\")\n",
    "g2k = csvToGraph(\"dataset/ran-2000x2000.csv\")\n",
    "\n",
    "# Global variables that can be used by every algorithms\n",
    "vehicules = 5\n",
    "startPoint = 0"
   ],
   "cell_type": "code",
   "metadata": {},
   "execution_count": 5,
   "outputs": []
  },
  {
   "source": [
    "## Tabu"
   ],
   "cell_type": "markdown",
   "metadata": {}
  },
  {
   "cell_type": "code",
   "execution_count": 4,
   "metadata": {
    "scrolled": true,
    "tags": []
   },
   "outputs": [
    {
     "output_type": "stream",
     "name": "stdout",
     "text": [
      "Worst 23.71000000000021\n"
     ]
    }
   ],
   "source": [
    "from algorithms.tabu import tabu\n",
    "\n",
    "iterations = 1\n",
    "bp, bd, t = tabu(g2k, vehicules, iterations, startPoint)\n",
    "w, wi, tl = calcPathEfficiency(g2k, bp, False)\n",
    "print(\"Worst\", w)"
   ]
  },
  {
   "source": [
    "## Simulated annealing"
   ],
   "cell_type": "markdown",
   "metadata": {}
  },
  {
   "cell_type": "code",
   "execution_count": 5,
   "metadata": {},
   "outputs": [
    {
     "output_type": "stream",
     "name": "stdout",
     "text": [
      "[]\nWorst 2.8600000000000008\n"
     ]
    }
   ],
   "source": [
    "from algorithms.recuit import getBestRS\n",
    "\n",
    "iterations = 1\n",
    "bp, w = getBestRS(iterations, vehicules, startPoint, g20)\n",
    "print(bp) # Vide ???\n",
    "#result = calcPathEfficiency(g20, bp)\n",
    "print(\"Worst\", w)"
   ]
  },
  {
   "source": [
    "## Ant colony"
   ],
   "cell_type": "markdown",
   "metadata": {}
  },
  {
   "cell_type": "code",
   "execution_count": 6,
   "metadata": {},
   "outputs": [
    {
     "output_type": "stream",
     "name": "stdout",
     "text": [
      "Worst 4.34\n"
     ]
    }
   ],
   "source": [
    "from algorithms.fourmi import antColonyAlg\n",
    "\n",
    "w = antColonyAlg(g20, vehicules)\n",
    "print(\"Worst\", w)"
   ]
  },
  {
   "source": [
    "## Genetic"
   ],
   "cell_type": "markdown",
   "metadata": {}
  },
  {
   "cell_type": "code",
   "execution_count": 7,
   "metadata": {},
   "outputs": [
    {
     "output_type": "stream",
     "name": "stdout",
     "text": [
      "Worst 1.9800000000000006\n"
     ]
    }
   ],
   "source": [
    "from algorithms.genetic import geneticPathFinder\n",
    "\n",
    "mutationRate = 1\n",
    "populationSize = 40\n",
    "maxGen = 10000\n",
    "maxIteration = 1\n",
    "\n",
    "w = geneticPathFinder(mutationRate, populationSize, vehicules, maxGen, maxIteration, g20, startPoint)\n",
    "print(\"Worst\", w)"
   ]
  },
  {
   "source": [
    "## Tabu with Genetic"
   ],
   "cell_type": "markdown",
   "metadata": {}
  },
  {
   "cell_type": "code",
   "execution_count": 8,
   "metadata": {},
   "outputs": [
    {
     "output_type": "stream",
     "name": "stdout",
     "text": [
      "Worst 2.39\n"
     ]
    }
   ],
   "source": [
    "from algorithms.tabugenetic import geneticPathFinderOGM\n",
    "\n",
    "mutationRate = 1\n",
    "maxGen = 5000\n",
    "\n",
    "w = geneticPathFinderOGM(mutationRate, len(g20), vehicules, maxGen, g20, startPoint, False)\n",
    "print(\"Worst\", w)"
   ]
  },
  {
   "source": [
    "## Google Tabu"
   ],
   "cell_type": "markdown",
   "metadata": {}
  },
  {
   "cell_type": "code",
   "execution_count": 9,
   "metadata": {},
   "outputs": [
    {
     "output_type": "stream",
     "name": "stdout",
     "text": [
      "Wost 1.95\n"
     ]
    }
   ],
   "source": [
    "from algorithms.google import googleORTools\n",
    "\n",
    "gx1000 = np.multiply(g20, 1000).astype(int).tolist()\n",
    "\n",
    "w = googleORTools(gx1000, vehicules, \"SIMULATED_ANNEALING\")[1] / 1000\n",
    "print(\"Wost\", w)"
   ]
  },
  {
   "source": [
    "## Google Simulated Annealing"
   ],
   "cell_type": "markdown",
   "metadata": {}
  },
  {
   "cell_type": "code",
   "execution_count": 10,
   "metadata": {},
   "outputs": [
    {
     "output_type": "stream",
     "name": "stdout",
     "text": [
      "Wost 1.95\n"
     ]
    }
   ],
   "source": [
    "w = googleORTools(gx1000, vehicules, \"TABU_SEARCH\")[1] / 1000\n",
    "print(\"Wost\", w)"
   ]
  },
  {
   "cell_type": "code",
   "execution_count": null,
   "metadata": {},
   "outputs": [],
   "source": []
  }
 ],
 "metadata": {
  "kernelspec": {
   "name": "python385jvsc74a57bd031f2aee4e71d21fbe5cf8b01ff0e069b9275f58929596ceb00d14d90e3e16cd6",
   "display_name": "Python 3.8.5 64-bit"
  },
  "language_info": {
   "codemirror_mode": {
    "name": "ipython",
    "version": 3
   },
   "file_extension": ".py",
   "mimetype": "text/x-python",
   "name": "python",
   "nbconvert_exporter": "python",
   "pygments_lexer": "ipython3",
   "version": "3.8.5"
  }
 },
 "nbformat": 4,
 "nbformat_minor": 2
}